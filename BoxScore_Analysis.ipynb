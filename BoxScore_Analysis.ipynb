{
 "cells": [
  {
   "cell_type": "markdown",
   "metadata": {},
   "source": [
    "## User Inputs"
   ]
  },
  {
   "cell_type": "code",
   "execution_count": null,
   "metadata": {},
   "outputs": [],
   "source": [
    "year = '1973'"
   ]
  },
  {
   "cell_type": "markdown",
   "metadata": {},
   "source": [
    "## Libraries"
   ]
  },
  {
   "cell_type": "code",
   "execution_count": null,
   "metadata": {},
   "outputs": [],
   "source": [
    "import pandas as pd\n",
    "import warnings\n",
    "import matplotlib.pyplot as plt\n",
    "import numpy as np\n",
    "import seaborn as sb\n",
    "import statsmodels.api as sm\n",
    "import sklearn\n",
    "from sklearn import linear_model\n",
    "from sklearn.preprocessing import StandardScaler\n",
    "from sklearn.metrics import r2_score\n",
    "from sklearn.model_selection import train_test_split\n",
    "from sklearn.ensemble import RandomForestRegressor\n",
    "from sklearn.tree import DecisionTreeRegressor\n",
    "warnings.filterwarnings(\"ignore\")"
   ]
  },
  {
   "cell_type": "markdown",
   "metadata": {},
   "source": [
    "## Functions"
   ]
  },
  {
   "cell_type": "code",
   "execution_count": null,
   "metadata": {},
   "outputs": [],
   "source": [
    "def my_mean(x):\n",
    "    return x[x>0].mean()\n",
    "\n",
    "def my_count(x):\n",
    "    return x[x>0].count()\n",
    "\n",
    "def create_adjusted(final):\n",
    "    for j,row in final.iterrows():\n",
    "        try:\n",
    "            i = str(row['Player'])\n",
    "            pri = float(prior_impact[prior_impact.Player==i]['Impact'])\n",
    "            pri_coef = float(df[df['index']==\"prior_impact\"+i+\"_T\"]['coef'])\n",
    "            curr_imp = float(final[final.Player==i]['Impact'])\n",
    "            adj_imp = float((pri * pri_coef)+curr_imp)\n",
    "            final.set_value(j,'Impact',adj_imp)\n",
    "        except:\n",
    "            pass\n",
    "    return final"
   ]
  },
  {
   "cell_type": "markdown",
   "metadata": {},
   "source": [
    "## Clean Boxscore Data"
   ]
  },
  {
   "cell_type": "code",
   "execution_count": null,
   "metadata": {},
   "outputs": [],
   "source": [
    "boxs = pd.read_excel('BoxScores/'+str(int(year))+'box.xlsx')\n",
    "\n",
    "# Create home, away, and neutral game split factors\n",
    "dummies = pd.get_dummies(boxs['Location'])\n",
    "\n",
    "# Add dummy variables and clean up dataset\n",
    "boxs = pd.concat([boxs, dummies], axis=1)\n",
    "boxs.drop('Location',axis=1,inplace=True)\n",
    "boxs = boxs.fillna(0).reset_index().drop('index',axis=1)\n",
    "\n",
    "# Create X and y variables for regression\n",
    "y=boxs.pop('Differential')\n",
    "X=boxs.copy()\n",
    "\n",
    "# Creates clean copy of the dataset\n",
    "boxes=pd.concat([X,y], axis=1)"
   ]
  },
  {
   "cell_type": "markdown",
   "metadata": {},
   "source": [
    "## Run Uninformed Regression"
   ]
  },
  {
   "cell_type": "code",
   "execution_count": null,
   "metadata": {},
   "outputs": [],
   "source": [
    "# Create Regression coefficient and Run regression\n",
    "X2 = sm.add_constant(X)\n",
    "est = sm.OLS(y, X)\n",
    "regr = est.fit()\n",
    "\n",
    "# Regression output results\n",
    "df = pd.read_html(regr.summary().tables[1].as_html(),header=0,index_col=0)[0]\n",
    "print(regr.summary())"
   ]
  },
  {
   "cell_type": "markdown",
   "metadata": {},
   "source": [
    "### Show Impact and Save"
   ]
  },
  {
   "cell_type": "code",
   "execution_count": null,
   "metadata": {},
   "outputs": [],
   "source": [
    "# Create total minutes played, avg minutes played out of total possible, and total games\n",
    "avgz = pd.DataFrame([boxs.sum(),boxs.apply(my_mean),boxs.apply(my_count)]).T.reset_index()\n",
    "avgz.columns = ['index','minutes','avg_minutes','gamez']\n",
    "\n",
    "# Regression summary\n",
    "df = df.reset_index()\n",
    "df = df[['index','coef']]\n",
    "\n",
    "# X and Y variables together\n",
    "boxes=pd.concat([X,y], axis=1)\n",
    "\n",
    "# Get rid of player duplicate as opposing player\n",
    "final = df[~(df['index'].str[-2:].str.contains('_T'))]\n",
    "\n",
    "# Get rid of prior impact factor\n",
    "final = final[~(final['index'].str.contains('prior_impact'))]\n",
    "\n",
    "# Rename the Regression coefficient\n",
    "final=final.replace('index', 'Baseline')\n",
    "\n",
    "# Add in our summary statistics and clean column names\n",
    "final = pd.merge(final,avgz,how='left', on='index')\n",
    "final.columns = ['Player','Impact','Minutes','AvgMinutes','Games']\n",
    "\n",
    "# Create scaled impacts\n",
    "final['Impact']=-1*final['Impact']\n",
    "final['ImpactPerGame']=final['Impact']*final['AvgMinutes']\n",
    "final['ImpactPerGameScaled'] = (final.ImpactPerGame - final.ImpactPerGame.mean())/final.ImpactPerGame.std(ddof=0)\n",
    "final['ImpactScaled'] = (final.Impact - final.Impact.mean())/final.Impact.std(ddof=0)\n",
    "final.sort_values('ImpactPerGame',ascending=False,inplace=True)\n",
    "final"
   ]
  },
  {
   "cell_type": "code",
   "execution_count": null,
   "metadata": {},
   "outputs": [],
   "source": [
    "final.to_excel('Impact/'+year+'impact.xlsx',index=False)"
   ]
  },
  {
   "cell_type": "markdown",
   "metadata": {},
   "source": [
    "## Run Informed Regression"
   ]
  },
  {
   "cell_type": "code",
   "execution_count": null,
   "metadata": {},
   "outputs": [],
   "source": [
    "# Add in prior impact to the boxscores\n",
    "try:\n",
    "    prior_impact = pd.read_excel('InformedImpact/'+str(int(year)-1)+'impactInformed.xlsx')\n",
    "except:\n",
    "    # If first year, won't have informed prior impact\n",
    "    prior_impact = pd.read_excel('Impact/'+str(int(year)-1)+'impact.xlsx')\n",
    "for i in boxes:\n",
    "    try:\n",
    "        # Prior home, away, and neutral should have no impact\n",
    "        if i not in ['H','@','N']:\n",
    "            # Prior impact for both player and opposing version duplicate\n",
    "            pri = float(prior_impact[prior_impact.Player==i]['Impact'])\n",
    "            boxes['prior_impact'+str(i)] = pri * boxes[str(i)]\n",
    "            boxes['prior_impact'+str(i)+\"_T\"] = pri * boxes[str(i)+\"_T\"]\n",
    "    except:\n",
    "        pass\n",
    "    \n",
    "# Create a copy of the original cleaned up Boxscores\n",
    "boxs2 = boxes.copy()\n",
    "\n",
    "# Create X and y variables for regression\n",
    "y=boxs2.pop('Differential')\n",
    "X=boxs2.copy()\n",
    "\n",
    "# Create Regression coefficient and Run regression\n",
    "X2 = sm.add_constant(X)\n",
    "est = sm.OLS(y, X)\n",
    "regr = est.fit()\n",
    "\n",
    "# Regression output results\n",
    "df = pd.read_html(regr.summary().tables[1].as_html(),header=0,index_col=0)[0]\n",
    "print(regr.summary())"
   ]
  },
  {
   "cell_type": "markdown",
   "metadata": {},
   "source": [
    "### Show Impact and Save"
   ]
  },
  {
   "cell_type": "code",
   "execution_count": null,
   "metadata": {},
   "outputs": [],
   "source": [
    "# Create total minutes played, avg minutes played out of total possible, and total games\n",
    "avgz = pd.DataFrame([boxs.sum(),boxs.apply(my_mean),boxs.apply(my_count)]).T.reset_index()\n",
    "avgz.columns = ['index','minutes','avg_minutes','gamez']\n",
    "\n",
    "# Regression summary\n",
    "df = df.reset_index()\n",
    "df = df[['index','coef']]\n",
    "\n",
    "# X and Y variables together\n",
    "boxes=pd.concat([X,y], axis=1)\n",
    "\n",
    "# Get rid of player duplicate as opposing player\n",
    "final = df[~(df['index'].str[-2:].str.contains('_T'))]\n",
    "\n",
    "# Get rid of prior impact factor\n",
    "final = final[~(final['index'].str.contains('prior_impact'))]\n",
    "\n",
    "# Rename the Regression coefficient\n",
    "final=final.replace('index', 'Baseline')\n",
    "\n",
    "# Add in our summary statistics and clean column names\n",
    "final = pd.merge(final,avgz,how='left', on='index')\n",
    "final.columns = ['Player','Impact','Minutes','AvgMinutes','Games']\n",
    "\n",
    "# Set up base impact variables\n",
    "final['Impact']=-1*final['Impact']\n",
    "final['OldImpact']=final['Impact']\n",
    "\n",
    "# Adjust impact with last year's prior impact as factor\n",
    "final = create_adjusted(final)\n",
    "\n",
    "# Create scaled imacts\n",
    "final['ImpactPerGame']=final['Impact']*final['AvgMinutes']\n",
    "final['ImpactPerGameScaled'] = (final.ImpactPerGame - final.ImpactPerGame.mean())/final.ImpactPerGame.std(ddof=0)\n",
    "final['ImpactScaled'] = (final.Impact - final.Impact.mean())/final.Impact.std(ddof=0)\n",
    "final.sort_values('ImpactPerGame',ascending=False,inplace=True)\n",
    "final"
   ]
  },
  {
   "cell_type": "code",
   "execution_count": null,
   "metadata": {},
   "outputs": [],
   "source": [
    "final.to_excel('InformedImpact/'+year+'impactInformed.xlsx',index=False)"
   ]
  }
 ],
 "metadata": {
  "kernelspec": {
   "display_name": "Python 3",
   "language": "python",
   "name": "python3"
  },
  "language_info": {
   "codemirror_mode": {
    "name": "ipython",
    "version": 3
   },
   "file_extension": ".py",
   "mimetype": "text/x-python",
   "name": "python",
   "nbconvert_exporter": "python",
   "pygments_lexer": "ipython3",
   "version": "3.7.3"
  }
 },
 "nbformat": 4,
 "nbformat_minor": 4
}
